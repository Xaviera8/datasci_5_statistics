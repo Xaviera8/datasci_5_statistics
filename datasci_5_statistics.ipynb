{
 "cells": [
  {
   "cell_type": "markdown",
   "metadata": {},
   "source": [
    "## **Week 5: Inferential Statistics**\n",
    "\n",
    "### **Objective**: \n",
    "Dive deep into inferential statistics and understand its relevance in drawing conclusions from data. Apply statistical tests to derive insights and make decisions based on data samples.\n",
    "\n",
    "### **Instructions**:\n",
    "\n",
    "You will have to choose either one dataset, or a couple different datasets to conduct a chi-square test, t-test, ANOVA, and regression. You will also have to provide insights on the results of each test. The scripts can be either in a notebook or a python script. You can use python or R, or BOTH! Suggest you do both if you want to maximize your learning.\n"
   ]
  },
  {
   "cell_type": "code",
   "execution_count": 2,
   "metadata": {},
   "outputs": [],
   "source": [
    "import pandas as pd\n",
    "from scipy.stats import chi2_contingency\n",
    "from scipy.stats import ttest_ind"
   ]
  },
  {
   "cell_type": "markdown",
   "metadata": {},
   "source": [
    "#### **1. Chi-Square Test:**\n",
    "1. Null Hypothesis (H0): There is no association between Shortness of Breath and Covid Status\n",
    "2. Alternative Hypothesis (H1): There is an association between Shortness of Breath and Covid Status\n"
   ]
  },
  {
   "cell_type": "code",
   "execution_count": 3,
   "metadata": {},
   "outputs": [
    {
     "name": "stderr",
     "output_type": "stream",
     "text": [
      "C:\\Users\\Xavier\\AppData\\Local\\Temp\\ipykernel_26860\\3010723710.py:1: DtypeWarning: Columns (2,3,4,5,6) have mixed types. Specify dtype option on import or set low_memory=False.\n",
      "  df1 = pd.read_csv(r\"C:\\Users\\Xavier\\Downloads\\archive\\corona.csv\")\n"
     ]
    },
    {
     "data": {
      "text/html": [
       "<div>\n",
       "<style scoped>\n",
       "    .dataframe tbody tr th:only-of-type {\n",
       "        vertical-align: middle;\n",
       "    }\n",
       "\n",
       "    .dataframe tbody tr th {\n",
       "        vertical-align: top;\n",
       "    }\n",
       "\n",
       "    .dataframe thead th {\n",
       "        text-align: right;\n",
       "    }\n",
       "</style>\n",
       "<table border=\"1\" class=\"dataframe\">\n",
       "  <thead>\n",
       "    <tr style=\"text-align: right;\">\n",
       "      <th></th>\n",
       "      <th>Ind_ID</th>\n",
       "      <th>Test_date</th>\n",
       "      <th>Cough_symptoms</th>\n",
       "      <th>Fever</th>\n",
       "      <th>Sore_throat</th>\n",
       "      <th>Shortness_of_breath</th>\n",
       "      <th>Headache</th>\n",
       "      <th>Corona</th>\n",
       "      <th>Age_60_above</th>\n",
       "      <th>Sex</th>\n",
       "      <th>Known_contact</th>\n",
       "    </tr>\n",
       "  </thead>\n",
       "  <tbody>\n",
       "    <tr>\n",
       "      <th>0</th>\n",
       "      <td>1</td>\n",
       "      <td>11-03-2020</td>\n",
       "      <td>TRUE</td>\n",
       "      <td>FALSE</td>\n",
       "      <td>TRUE</td>\n",
       "      <td>FALSE</td>\n",
       "      <td>FALSE</td>\n",
       "      <td>negative</td>\n",
       "      <td>None</td>\n",
       "      <td>None</td>\n",
       "      <td>Abroad</td>\n",
       "    </tr>\n",
       "    <tr>\n",
       "      <th>1</th>\n",
       "      <td>2</td>\n",
       "      <td>11-03-2020</td>\n",
       "      <td>FALSE</td>\n",
       "      <td>TRUE</td>\n",
       "      <td>FALSE</td>\n",
       "      <td>FALSE</td>\n",
       "      <td>FALSE</td>\n",
       "      <td>positive</td>\n",
       "      <td>None</td>\n",
       "      <td>None</td>\n",
       "      <td>Abroad</td>\n",
       "    </tr>\n",
       "    <tr>\n",
       "      <th>2</th>\n",
       "      <td>3</td>\n",
       "      <td>11-03-2020</td>\n",
       "      <td>FALSE</td>\n",
       "      <td>TRUE</td>\n",
       "      <td>FALSE</td>\n",
       "      <td>FALSE</td>\n",
       "      <td>FALSE</td>\n",
       "      <td>positive</td>\n",
       "      <td>None</td>\n",
       "      <td>None</td>\n",
       "      <td>Abroad</td>\n",
       "    </tr>\n",
       "    <tr>\n",
       "      <th>3</th>\n",
       "      <td>4</td>\n",
       "      <td>11-03-2020</td>\n",
       "      <td>TRUE</td>\n",
       "      <td>FALSE</td>\n",
       "      <td>FALSE</td>\n",
       "      <td>FALSE</td>\n",
       "      <td>FALSE</td>\n",
       "      <td>negative</td>\n",
       "      <td>None</td>\n",
       "      <td>None</td>\n",
       "      <td>Abroad</td>\n",
       "    </tr>\n",
       "    <tr>\n",
       "      <th>4</th>\n",
       "      <td>5</td>\n",
       "      <td>11-03-2020</td>\n",
       "      <td>TRUE</td>\n",
       "      <td>FALSE</td>\n",
       "      <td>FALSE</td>\n",
       "      <td>FALSE</td>\n",
       "      <td>FALSE</td>\n",
       "      <td>negative</td>\n",
       "      <td>None</td>\n",
       "      <td>None</td>\n",
       "      <td>Contact with confirmed</td>\n",
       "    </tr>\n",
       "    <tr>\n",
       "      <th>...</th>\n",
       "      <td>...</td>\n",
       "      <td>...</td>\n",
       "      <td>...</td>\n",
       "      <td>...</td>\n",
       "      <td>...</td>\n",
       "      <td>...</td>\n",
       "      <td>...</td>\n",
       "      <td>...</td>\n",
       "      <td>...</td>\n",
       "      <td>...</td>\n",
       "      <td>...</td>\n",
       "    </tr>\n",
       "    <tr>\n",
       "      <th>278843</th>\n",
       "      <td>278844</td>\n",
       "      <td>30-04-2020</td>\n",
       "      <td>False</td>\n",
       "      <td>False</td>\n",
       "      <td>False</td>\n",
       "      <td>False</td>\n",
       "      <td>False</td>\n",
       "      <td>positive</td>\n",
       "      <td>None</td>\n",
       "      <td>male</td>\n",
       "      <td>Other</td>\n",
       "    </tr>\n",
       "    <tr>\n",
       "      <th>278844</th>\n",
       "      <td>278845</td>\n",
       "      <td>30-04-2020</td>\n",
       "      <td>False</td>\n",
       "      <td>False</td>\n",
       "      <td>False</td>\n",
       "      <td>False</td>\n",
       "      <td>False</td>\n",
       "      <td>negative</td>\n",
       "      <td>None</td>\n",
       "      <td>female</td>\n",
       "      <td>Other</td>\n",
       "    </tr>\n",
       "    <tr>\n",
       "      <th>278845</th>\n",
       "      <td>278846</td>\n",
       "      <td>30-04-2020</td>\n",
       "      <td>False</td>\n",
       "      <td>False</td>\n",
       "      <td>False</td>\n",
       "      <td>False</td>\n",
       "      <td>False</td>\n",
       "      <td>negative</td>\n",
       "      <td>None</td>\n",
       "      <td>male</td>\n",
       "      <td>Other</td>\n",
       "    </tr>\n",
       "    <tr>\n",
       "      <th>278846</th>\n",
       "      <td>278847</td>\n",
       "      <td>30-04-2020</td>\n",
       "      <td>False</td>\n",
       "      <td>False</td>\n",
       "      <td>False</td>\n",
       "      <td>False</td>\n",
       "      <td>False</td>\n",
       "      <td>negative</td>\n",
       "      <td>None</td>\n",
       "      <td>male</td>\n",
       "      <td>Other</td>\n",
       "    </tr>\n",
       "    <tr>\n",
       "      <th>278847</th>\n",
       "      <td>278848</td>\n",
       "      <td>30-04-2020</td>\n",
       "      <td>False</td>\n",
       "      <td>False</td>\n",
       "      <td>False</td>\n",
       "      <td>False</td>\n",
       "      <td>False</td>\n",
       "      <td>negative</td>\n",
       "      <td>None</td>\n",
       "      <td>female</td>\n",
       "      <td>Other</td>\n",
       "    </tr>\n",
       "  </tbody>\n",
       "</table>\n",
       "<p>278848 rows × 11 columns</p>\n",
       "</div>"
      ],
      "text/plain": [
       "        Ind_ID   Test_date Cough_symptoms  Fever Sore_throat  \\\n",
       "0            1  11-03-2020           TRUE  FALSE        TRUE   \n",
       "1            2  11-03-2020          FALSE   TRUE       FALSE   \n",
       "2            3  11-03-2020          FALSE   TRUE       FALSE   \n",
       "3            4  11-03-2020           TRUE  FALSE       FALSE   \n",
       "4            5  11-03-2020           TRUE  FALSE       FALSE   \n",
       "...        ...         ...            ...    ...         ...   \n",
       "278843  278844  30-04-2020          False  False       False   \n",
       "278844  278845  30-04-2020          False  False       False   \n",
       "278845  278846  30-04-2020          False  False       False   \n",
       "278846  278847  30-04-2020          False  False       False   \n",
       "278847  278848  30-04-2020          False  False       False   \n",
       "\n",
       "       Shortness_of_breath Headache    Corona Age_60_above     Sex  \\\n",
       "0                    FALSE    FALSE  negative         None    None   \n",
       "1                    FALSE    FALSE  positive         None    None   \n",
       "2                    FALSE    FALSE  positive         None    None   \n",
       "3                    FALSE    FALSE  negative         None    None   \n",
       "4                    FALSE    FALSE  negative         None    None   \n",
       "...                    ...      ...       ...          ...     ...   \n",
       "278843               False    False  positive         None    male   \n",
       "278844               False    False  negative         None  female   \n",
       "278845               False    False  negative         None    male   \n",
       "278846               False    False  negative         None    male   \n",
       "278847               False    False  negative         None  female   \n",
       "\n",
       "                 Known_contact  \n",
       "0                       Abroad  \n",
       "1                       Abroad  \n",
       "2                       Abroad  \n",
       "3                       Abroad  \n",
       "4       Contact with confirmed  \n",
       "...                        ...  \n",
       "278843                   Other  \n",
       "278844                   Other  \n",
       "278845                   Other  \n",
       "278846                   Other  \n",
       "278847                   Other  \n",
       "\n",
       "[278848 rows x 11 columns]"
      ]
     },
     "execution_count": 3,
     "metadata": {},
     "output_type": "execute_result"
    }
   ],
   "source": [
    "df1 = pd.read_csv(r\"C:\\Users\\Xavier\\Downloads\\archive\\corona.csv\")\n",
    "df1"
   ]
  },
  {
   "cell_type": "code",
   "execution_count": 6,
   "metadata": {},
   "outputs": [
    {
     "data": {
      "text/plain": [
       "Index(['ind_id', 'test_date', 'cough_symptoms', 'fever', 'sore_throat',\n",
       "       'shortness_of_breath', 'headache', 'corona', 'age_60_above', 'sex',\n",
       "       'known_contact'],\n",
       "      dtype='object')"
      ]
     },
     "execution_count": 6,
     "metadata": {},
     "output_type": "execute_result"
    }
   ],
   "source": [
    "df1.columns = df1.columns.str.lower()\n",
    "df1.columns"
   ]
  },
  {
   "cell_type": "code",
   "execution_count": 7,
   "metadata": {},
   "outputs": [],
   "source": [
    "df1['cough_symptoms'] = df1['cough_symptoms'].str.lower()\n",
    "df1['shortness_of_breath'] = df1['shortness_of_breath'].str.lower()"
   ]
  },
  {
   "cell_type": "code",
   "execution_count": 79,
   "metadata": {},
   "outputs": [
    {
     "data": {
      "text/plain": [
       "false    64428\n",
       "true      1107\n",
       "none         1\n",
       "Name: shortness_of_breath, dtype: int64"
      ]
     },
     "execution_count": 79,
     "metadata": {},
     "output_type": "execute_result"
    }
   ],
   "source": [
    "df1['shortness_of_breath'].value_counts()"
   ]
  },
  {
   "cell_type": "code",
   "execution_count": 10,
   "metadata": {},
   "outputs": [
    {
     "data": {
      "text/plain": [
       "negative    260227\n",
       "positive     14729\n",
       "other         3892\n",
       "Name: corona, dtype: int64"
      ]
     },
     "execution_count": 10,
     "metadata": {},
     "output_type": "execute_result"
    }
   ],
   "source": [
    "df1['corona'].value_counts()"
   ]
  },
  {
   "cell_type": "code",
   "execution_count": 77,
   "metadata": {},
   "outputs": [
    {
     "name": "stdout",
     "output_type": "stream",
     "text": [
      "corona               negative  other  positive\n",
      "shortness_of_breath                           \n",
      "false                   58464   1044      4920\n",
      "none                        0      0         1\n",
      "true                      340     23       744\n"
     ]
    }
   ],
   "source": [
    "sob = pd.crosstab(df1['shortness_of_breath'],df1['corona'])\n",
    "print(sob)"
   ]
  },
  {
   "cell_type": "code",
   "execution_count": 78,
   "metadata": {},
   "outputs": [
    {
     "name": "stdout",
     "output_type": "stream",
     "text": [
      "Chi2 value: 4917.075119996579\n",
      "P-value: 0.0\n",
      "Degrees of Freedom: 4\n",
      "Expected Counts: [[5.78098162e+04 1.04896051e+03 5.56922333e+03]\n",
      " [8.97277832e-01 1.62811279e-02 8.64410400e-02]\n",
      " [9.93286560e+02 1.80232086e+01 9.56902313e+01]]\n"
     ]
    }
   ],
   "source": [
    "chi2, p, dof, expected = chi2_contingency(sob)\n",
    "print(f\"Chi2 value: {chi2}\")\n",
    "print(f\"P-value: {p}\")\n",
    "print(f\"Degrees of Freedom: {dof}\")\n",
    "print(f\"Expected Counts: {expected}\")"
   ]
  },
  {
   "cell_type": "markdown",
   "metadata": {},
   "source": [
    "The P value from this Chi test is 0.0. I am not sure if this is an error due to my input or not but because this value is less than 5% we can assume that there is not a significant relationship between shortness of breath and covid status. "
   ]
  },
  {
   "cell_type": "markdown",
   "metadata": {},
   "source": [
    "\n",
    "\n",
    "#### **2. T-Test:**\n",
    "1. Null Hypothesis (H0): There is no difference in Heart Failure Prevelance between Northern and Southern States\n",
    "2. Alternative Hypothesis (H1): There is a difference in Heart Failure Prevelance between Northern and Southern States\n"
   ]
  },
  {
   "cell_type": "code",
   "execution_count": 13,
   "metadata": {},
   "outputs": [
    {
     "data": {
      "text/html": [
       "<div>\n",
       "<style scoped>\n",
       "    .dataframe tbody tr th:only-of-type {\n",
       "        vertical-align: middle;\n",
       "    }\n",
       "\n",
       "    .dataframe tbody tr th {\n",
       "        vertical-align: top;\n",
       "    }\n",
       "\n",
       "    .dataframe thead th {\n",
       "        text-align: right;\n",
       "    }\n",
       "</style>\n",
       "<table border=\"1\" class=\"dataframe\">\n",
       "  <thead>\n",
       "    <tr style=\"text-align: right;\">\n",
       "      <th></th>\n",
       "      <th>Bene_Geo_Lvl</th>\n",
       "      <th>Bene_Geo_Desc</th>\n",
       "      <th>Bene_Geo_Cd</th>\n",
       "      <th>Bene_Age_Lvl</th>\n",
       "      <th>Bene_Demo_Lvl</th>\n",
       "      <th>Bene_Demo_Desc</th>\n",
       "      <th>Bene_Cond</th>\n",
       "      <th>Prvlnc</th>\n",
       "      <th>Tot_Mdcr_Stdzd_Pymt_PC</th>\n",
       "      <th>Tot_Mdcr_Pymt_PC</th>\n",
       "      <th>Hosp_Readmsn_Rate</th>\n",
       "      <th>ER_Visits_Per_1000_Benes</th>\n",
       "      <th>is_southern</th>\n",
       "    </tr>\n",
       "  </thead>\n",
       "  <tbody>\n",
       "    <tr>\n",
       "      <th>417</th>\n",
       "      <td>State</td>\n",
       "      <td>Maryland</td>\n",
       "      <td>24.0</td>\n",
       "      <td>All</td>\n",
       "      <td>All</td>\n",
       "      <td>All</td>\n",
       "      <td>Autism Spectrum Disorders</td>\n",
       "      <td>0.0024</td>\n",
       "      <td>7966.0182</td>\n",
       "      <td>10164.1917</td>\n",
       "      <td>0.2305</td>\n",
       "      <td>1295.7435</td>\n",
       "      <td>southern</td>\n",
       "    </tr>\n",
       "    <tr>\n",
       "      <th>715</th>\n",
       "      <td>State</td>\n",
       "      <td>North Dakota</td>\n",
       "      <td>38.0</td>\n",
       "      <td>All</td>\n",
       "      <td>All</td>\n",
       "      <td>All</td>\n",
       "      <td>Hepatitis (Chronic Viral B &amp; C)</td>\n",
       "      <td>0.0031</td>\n",
       "      <td>22581.7393</td>\n",
       "      <td>23225.9698</td>\n",
       "      <td>0.2821</td>\n",
       "      <td>2274.8344</td>\n",
       "      <td>non-southern</td>\n",
       "    </tr>\n",
       "    <tr>\n",
       "      <th>340</th>\n",
       "      <td>State</td>\n",
       "      <td>Kansas</td>\n",
       "      <td>20.0</td>\n",
       "      <td>All</td>\n",
       "      <td>All</td>\n",
       "      <td>All</td>\n",
       "      <td>Drug/Substance Abuse</td>\n",
       "      <td>0.0251</td>\n",
       "      <td>24473.9292</td>\n",
       "      <td>24058.2648</td>\n",
       "      <td>0.2615</td>\n",
       "      <td>2752.5538</td>\n",
       "      <td>non-southern</td>\n",
       "    </tr>\n",
       "    <tr>\n",
       "      <th>499</th>\n",
       "      <td>State</td>\n",
       "      <td>Mississippi</td>\n",
       "      <td>28.0</td>\n",
       "      <td>All</td>\n",
       "      <td>All</td>\n",
       "      <td>All</td>\n",
       "      <td>Asthma</td>\n",
       "      <td>0.0412</td>\n",
       "      <td>22671.8130</td>\n",
       "      <td>21259.1114</td>\n",
       "      <td>0.2106</td>\n",
       "      <td>1955.8132</td>\n",
       "      <td>southern</td>\n",
       "    </tr>\n",
       "    <tr>\n",
       "      <th>47</th>\n",
       "      <td>State</td>\n",
       "      <td>Arizona</td>\n",
       "      <td>4.0</td>\n",
       "      <td>All</td>\n",
       "      <td>All</td>\n",
       "      <td>All</td>\n",
       "      <td>Cancer</td>\n",
       "      <td>0.0874</td>\n",
       "      <td>18480.3587</td>\n",
       "      <td>19324.4684</td>\n",
       "      <td>0.1809</td>\n",
       "      <td>907.2663</td>\n",
       "      <td>non-southern</td>\n",
       "    </tr>\n",
       "  </tbody>\n",
       "</table>\n",
       "</div>"
      ],
      "text/plain": [
       "    Bene_Geo_Lvl Bene_Geo_Desc  Bene_Geo_Cd Bene_Age_Lvl Bene_Demo_Lvl  \\\n",
       "417        State      Maryland         24.0          All           All   \n",
       "715        State  North Dakota         38.0          All           All   \n",
       "340        State        Kansas         20.0          All           All   \n",
       "499        State   Mississippi         28.0          All           All   \n",
       "47         State       Arizona          4.0          All           All   \n",
       "\n",
       "    Bene_Demo_Desc                        Bene_Cond  Prvlnc  \\\n",
       "417            All        Autism Spectrum Disorders  0.0024   \n",
       "715            All  Hepatitis (Chronic Viral B & C)  0.0031   \n",
       "340            All             Drug/Substance Abuse  0.0251   \n",
       "499            All                           Asthma  0.0412   \n",
       "47             All                           Cancer  0.0874   \n",
       "\n",
       "     Tot_Mdcr_Stdzd_Pymt_PC  Tot_Mdcr_Pymt_PC  Hosp_Readmsn_Rate  \\\n",
       "417               7966.0182        10164.1917             0.2305   \n",
       "715              22581.7393        23225.9698             0.2821   \n",
       "340              24473.9292        24058.2648             0.2615   \n",
       "499              22671.8130        21259.1114             0.2106   \n",
       "47               18480.3587        19324.4684             0.1809   \n",
       "\n",
       "     ER_Visits_Per_1000_Benes   is_southern  \n",
       "417                 1295.7435      southern  \n",
       "715                 2274.8344  non-southern  \n",
       "340                 2752.5538  non-southern  \n",
       "499                 1955.8132      southern  \n",
       "47                   907.2663  non-southern  "
      ]
     },
     "execution_count": 13,
     "metadata": {},
     "output_type": "execute_result"
    }
   ],
   "source": [
    "df2 = pd.read_csv(\"https://raw.githubusercontent.com/hantswilliams/HHA_507_2023/main/WK5/examples/data/cms-chronic-conditions/CC_R20_P08_v10_D18_WWDSE_Cond_complete.csv\")\n",
    "df2 = df2.dropna()\n",
    "df2.sample(5)"
   ]
  },
  {
   "cell_type": "code",
   "execution_count": 14,
   "metadata": {},
   "outputs": [
    {
     "name": "stdout",
     "output_type": "stream",
     "text": [
      "<bound method IndexOpsMixin.value_counts of 0                                     Alcohol Abuse\n",
      "1                      Alzheimer's Disease/Dementia\n",
      "2                                         Arthritis\n",
      "3                                            Asthma\n",
      "4                               Atrial Fibrillation\n",
      "                           ...                     \n",
      "1046                                   Hypertension\n",
      "1047                         Ischemic Heart Disease\n",
      "1048                                   Osteoporosis\n",
      "1049    Schizophrenia and Other Psychotic Disorders\n",
      "1050                                         Stroke\n",
      "Name: Bene_Cond, Length: 1051, dtype: object>\n"
     ]
    }
   ],
   "source": [
    "print(df2['Bene_Cond'].value_counts)"
   ]
  },
  {
   "cell_type": "code",
   "execution_count": 15,
   "metadata": {},
   "outputs": [
    {
     "data": {
      "text/html": [
       "<div>\n",
       "<style scoped>\n",
       "    .dataframe tbody tr th:only-of-type {\n",
       "        vertical-align: middle;\n",
       "    }\n",
       "\n",
       "    .dataframe tbody tr th {\n",
       "        vertical-align: top;\n",
       "    }\n",
       "\n",
       "    .dataframe thead th {\n",
       "        text-align: right;\n",
       "    }\n",
       "</style>\n",
       "<table border=\"1\" class=\"dataframe\">\n",
       "  <thead>\n",
       "    <tr style=\"text-align: right;\">\n",
       "      <th></th>\n",
       "      <th>Bene_Cond</th>\n",
       "      <th>Prvlnc</th>\n",
       "      <th>Hosp_Readmsn_Rate</th>\n",
       "      <th>is_southern</th>\n",
       "    </tr>\n",
       "  </thead>\n",
       "  <tbody>\n",
       "    <tr>\n",
       "      <th>425</th>\n",
       "      <td>Heart Failure</td>\n",
       "      <td>0.1257</td>\n",
       "      <td>0.2643</td>\n",
       "      <td>southern</td>\n",
       "    </tr>\n",
       "    <tr>\n",
       "      <th>549</th>\n",
       "      <td>Heart Failure</td>\n",
       "      <td>0.1031</td>\n",
       "      <td>0.2042</td>\n",
       "      <td>non-southern</td>\n",
       "    </tr>\n",
       "    <tr>\n",
       "      <th>137</th>\n",
       "      <td>Heart Failure</td>\n",
       "      <td>0.1452</td>\n",
       "      <td>0.2490</td>\n",
       "      <td>non-southern</td>\n",
       "    </tr>\n",
       "    <tr>\n",
       "      <th>384</th>\n",
       "      <td>Heart Failure</td>\n",
       "      <td>0.1594</td>\n",
       "      <td>0.2458</td>\n",
       "      <td>southern</td>\n",
       "    </tr>\n",
       "    <tr>\n",
       "      <th>1003</th>\n",
       "      <td>Heart Failure</td>\n",
       "      <td>0.1511</td>\n",
       "      <td>0.2619</td>\n",
       "      <td>southern</td>\n",
       "    </tr>\n",
       "    <tr>\n",
       "      <th>570</th>\n",
       "      <td>Heart Failure</td>\n",
       "      <td>0.1298</td>\n",
       "      <td>0.2140</td>\n",
       "      <td>non-southern</td>\n",
       "    </tr>\n",
       "    <tr>\n",
       "      <th>961</th>\n",
       "      <td>Heart Failure</td>\n",
       "      <td>0.1280</td>\n",
       "      <td>0.2400</td>\n",
       "      <td>southern</td>\n",
       "    </tr>\n",
       "    <tr>\n",
       "      <th>239</th>\n",
       "      <td>Heart Failure</td>\n",
       "      <td>0.1013</td>\n",
       "      <td>0.2024</td>\n",
       "      <td>non-southern</td>\n",
       "    </tr>\n",
       "    <tr>\n",
       "      <th>1024</th>\n",
       "      <td>Heart Failure</td>\n",
       "      <td>0.1269</td>\n",
       "      <td>0.2244</td>\n",
       "      <td>non-southern</td>\n",
       "    </tr>\n",
       "    <tr>\n",
       "      <th>488</th>\n",
       "      <td>Heart Failure</td>\n",
       "      <td>0.1197</td>\n",
       "      <td>0.2427</td>\n",
       "      <td>non-southern</td>\n",
       "    </tr>\n",
       "  </tbody>\n",
       "</table>\n",
       "</div>"
      ],
      "text/plain": [
       "          Bene_Cond  Prvlnc  Hosp_Readmsn_Rate   is_southern\n",
       "425   Heart Failure  0.1257             0.2643      southern\n",
       "549   Heart Failure  0.1031             0.2042  non-southern\n",
       "137   Heart Failure  0.1452             0.2490  non-southern\n",
       "384   Heart Failure  0.1594             0.2458      southern\n",
       "1003  Heart Failure  0.1511             0.2619      southern\n",
       "570   Heart Failure  0.1298             0.2140  non-southern\n",
       "961   Heart Failure  0.1280             0.2400      southern\n",
       "239   Heart Failure  0.1013             0.2024  non-southern\n",
       "1024  Heart Failure  0.1269             0.2244  non-southern\n",
       "488   Heart Failure  0.1197             0.2427  non-southern"
      ]
     },
     "execution_count": 15,
     "metadata": {},
     "output_type": "execute_result"
    }
   ],
   "source": [
    "heartfailure = df2[df2['Bene_Cond'] == 'Heart Failure']\n",
    "\n",
    "heartfailure = heartfailure[['Bene_Cond','Prvlnc','Hosp_Readmsn_Rate', 'is_southern']]\n",
    "\n",
    "heartfailure.sample(10)\n",
    "\n"
   ]
  },
  {
   "cell_type": "code",
   "execution_count": 16,
   "metadata": {},
   "outputs": [
    {
     "data": {
      "text/plain": [
       "32      0.0964\n",
       "53      0.1033\n",
       "95      0.1391\n",
       "116     0.1028\n",
       "137     0.1452\n",
       "239     0.1013\n",
       "258     0.1121\n",
       "279     0.1535\n",
       "300     0.1511\n",
       "321     0.1299\n",
       "342     0.1352\n",
       "404     0.1211\n",
       "446     0.1276\n",
       "467     0.1596\n",
       "488     0.1197\n",
       "530     0.1460\n",
       "549     0.1031\n",
       "570     0.1298\n",
       "591     0.1199\n",
       "611     0.1084\n",
       "632     0.1519\n",
       "653     0.1080\n",
       "674     0.1501\n",
       "714     0.1400\n",
       "735     0.1474\n",
       "777     0.1147\n",
       "798     0.1336\n",
       "818     0.1251\n",
       "859     0.1210\n",
       "920     0.1187\n",
       "940     0.0938\n",
       "982     0.1184\n",
       "1024    0.1269\n",
       "1043    0.1090\n",
       "Name: Prvlnc, dtype: float64"
      ]
     },
     "execution_count": 16,
     "metadata": {},
     "output_type": "execute_result"
    }
   ],
   "source": [
    "north = heartfailure[heartfailure['is_southern']== 'non-southern']['Prvlnc']\n",
    "south = heartfailure[heartfailure['is_southern']== 'southern']['Prvlnc']"
   ]
  },
  {
   "cell_type": "code",
   "execution_count": 85,
   "metadata": {},
   "outputs": [
    {
     "name": "stdout",
     "output_type": "stream",
     "text": [
      "Average prevelance for northern states is  0.1254029411764706\n",
      "Average prevelance for southern states is  0.14454705882352942\n"
     ]
    }
   ],
   "source": [
    "northavg = north.mean()\n",
    "southavg = south.mean()\n",
    "print('Average prevelance for northern states is ', northavg)\n",
    "print('Average prevelance for southern states is ',southavg)"
   ]
  },
  {
   "cell_type": "code",
   "execution_count": 86,
   "metadata": {},
   "outputs": [
    {
     "name": "stdout",
     "output_type": "stream",
     "text": [
      "T statistic is  4.017522776690597\n",
      "P value is 0.00025989792313205196\n"
     ]
    }
   ],
   "source": [
    "t_stat, p_val = ttest_ind(south, north, equal_var = False)\n",
    "print(\"T statistic is \",t_stat)\n",
    "print('P value is', p_val)"
   ]
  },
  {
   "cell_type": "markdown",
   "metadata": {},
   "source": [
    "The T statistic indicates that the heart failure prevalence is higher in southern states. The p value is less than 0.05 which indicates that there is significane between the heart failure prevelance of northern and southern states and there is strong evidence against the null hypothesis. "
   ]
  },
  {
   "cell_type": "markdown",
   "metadata": {},
   "source": [
    "#### **3. ANOVA:**\n",
    "\n",
    "Null Hypothesis (H0): There is no difference in chest pain based on resting blood pressure.\n",
    "Alternative Hypothesis (H1): There is a difference in chest pain based on resting blood pressure."
   ]
  },
  {
   "cell_type": "code",
   "execution_count": 44,
   "metadata": {},
   "outputs": [
    {
     "data": {
      "text/plain": [
       "Index(['age', 'sex', 'cp', 'trtbps', 'chol', 'fbs', 'restecg', 'thalachh',\n",
       "       'exng', 'oldpeak', 'slp', 'caa', 'thall', 'output'],\n",
       "      dtype='object')"
      ]
     },
     "execution_count": 44,
     "metadata": {},
     "output_type": "execute_result"
    }
   ],
   "source": [
    "import statsmodels.api as sm\n",
    "from statsmodels.formula.api import ols\n",
    "df3 = pd.read_csv(r\"C:\\Users\\Xavier\\Downloads\\archive\\heart.csv\")\n",
    "df3.columns\n"
   ]
  },
  {
   "cell_type": "code",
   "execution_count": 45,
   "metadata": {},
   "outputs": [
    {
     "data": {
      "text/html": [
       "<div>\n",
       "<style scoped>\n",
       "    .dataframe tbody tr th:only-of-type {\n",
       "        vertical-align: middle;\n",
       "    }\n",
       "\n",
       "    .dataframe tbody tr th {\n",
       "        vertical-align: top;\n",
       "    }\n",
       "\n",
       "    .dataframe thead th {\n",
       "        text-align: right;\n",
       "    }\n",
       "</style>\n",
       "<table border=\"1\" class=\"dataframe\">\n",
       "  <thead>\n",
       "    <tr style=\"text-align: right;\">\n",
       "      <th></th>\n",
       "      <th>chest_pain</th>\n",
       "      <th>resting_ecg</th>\n",
       "      <th>resting_bp</th>\n",
       "    </tr>\n",
       "  </thead>\n",
       "  <tbody>\n",
       "    <tr>\n",
       "      <th>0</th>\n",
       "      <td>3</td>\n",
       "      <td>0</td>\n",
       "      <td>145</td>\n",
       "    </tr>\n",
       "    <tr>\n",
       "      <th>1</th>\n",
       "      <td>2</td>\n",
       "      <td>1</td>\n",
       "      <td>130</td>\n",
       "    </tr>\n",
       "    <tr>\n",
       "      <th>2</th>\n",
       "      <td>1</td>\n",
       "      <td>0</td>\n",
       "      <td>130</td>\n",
       "    </tr>\n",
       "    <tr>\n",
       "      <th>3</th>\n",
       "      <td>1</td>\n",
       "      <td>1</td>\n",
       "      <td>120</td>\n",
       "    </tr>\n",
       "    <tr>\n",
       "      <th>4</th>\n",
       "      <td>0</td>\n",
       "      <td>1</td>\n",
       "      <td>120</td>\n",
       "    </tr>\n",
       "    <tr>\n",
       "      <th>...</th>\n",
       "      <td>...</td>\n",
       "      <td>...</td>\n",
       "      <td>...</td>\n",
       "    </tr>\n",
       "    <tr>\n",
       "      <th>298</th>\n",
       "      <td>0</td>\n",
       "      <td>1</td>\n",
       "      <td>140</td>\n",
       "    </tr>\n",
       "    <tr>\n",
       "      <th>299</th>\n",
       "      <td>3</td>\n",
       "      <td>1</td>\n",
       "      <td>110</td>\n",
       "    </tr>\n",
       "    <tr>\n",
       "      <th>300</th>\n",
       "      <td>0</td>\n",
       "      <td>1</td>\n",
       "      <td>144</td>\n",
       "    </tr>\n",
       "    <tr>\n",
       "      <th>301</th>\n",
       "      <td>0</td>\n",
       "      <td>1</td>\n",
       "      <td>130</td>\n",
       "    </tr>\n",
       "    <tr>\n",
       "      <th>302</th>\n",
       "      <td>1</td>\n",
       "      <td>0</td>\n",
       "      <td>130</td>\n",
       "    </tr>\n",
       "  </tbody>\n",
       "</table>\n",
       "<p>303 rows × 3 columns</p>\n",
       "</div>"
      ],
      "text/plain": [
       "     chest_pain  resting_ecg  resting_bp\n",
       "0             3            0         145\n",
       "1             2            1         130\n",
       "2             1            0         130\n",
       "3             1            1         120\n",
       "4             0            1         120\n",
       "..          ...          ...         ...\n",
       "298           0            1         140\n",
       "299           3            1         110\n",
       "300           0            1         144\n",
       "301           0            1         130\n",
       "302           1            0         130\n",
       "\n",
       "[303 rows x 3 columns]"
      ]
     },
     "execution_count": 45,
     "metadata": {},
     "output_type": "execute_result"
    }
   ],
   "source": [
    "df3 = df3[['cp','restecg', 'trtbps']]\n",
    "df3.rename(columns={'cp': 'chest_pain', 'restecg': 'resting_ecg', 'trtbps': 'resting_bp'}, inplace=True)\n",
    "df3"
   ]
  },
  {
   "cell_type": "markdown",
   "metadata": {},
   "source": [
    "This subset of data shows the level of chest pain from 0-3 and the resting blood pressure for individuals in a Heart Attack Analysis & Prediction study. \n"
   ]
  },
  {
   "cell_type": "code",
   "execution_count": 47,
   "metadata": {},
   "outputs": [],
   "source": [
    "model = ols('resting_bp ~ C(chest_pain)', data=df3).fit()"
   ]
  },
  {
   "cell_type": "code",
   "execution_count": 48,
   "metadata": {},
   "outputs": [
    {
     "name": "stdout",
     "output_type": "stream",
     "text": [
      "                     sum_sq     df         F    PR(>F)\n",
      "C(chest_pain)   2643.080394    3.0  2.918923  0.034397\n",
      "Residual       90248.028517  299.0       NaN       NaN\n"
     ]
    }
   ],
   "source": [
    "anova_table = sm.stats.anova_lm(model, typ =2)\n",
    "\n",
    "print(anova_table)"
   ]
  },
  {
   "cell_type": "code",
   "execution_count": 49,
   "metadata": {},
   "outputs": [
    {
     "data": {
      "text/plain": [
       "chest_pain\n",
       "0    132.020979\n",
       "1    128.400000\n",
       "2    130.379310\n",
       "3    140.869565\n",
       "Name: resting_bp, dtype: float64"
      ]
     },
     "execution_count": 49,
     "metadata": {},
     "output_type": "execute_result"
    }
   ],
   "source": [
    "df3.groupby('chest_pain')['resting_bp'].mean()"
   ]
  },
  {
   "cell_type": "markdown",
   "metadata": {},
   "source": [
    "The P value for the Anova test was 0.0343 or 3.43% which indicated that there is siginficane behind the idea that resting blood pressure levels is associated with higher levels of chest pain. "
   ]
  },
  {
   "cell_type": "markdown",
   "metadata": {},
   "source": [
    "#### **4. Regression Analysis:**\n",
    "\n",
    "Null Hypothesis (H0): There is not a  significant linear relationship between BMI and Glucose Levels\n",
    "Alternative Hypothesis (H1): There is a significant linear relationship between BMI and Glucose Levels"
   ]
  },
  {
   "cell_type": "code",
   "execution_count": 54,
   "metadata": {},
   "outputs": [
    {
     "data": {
      "text/html": [
       "<div>\n",
       "<style scoped>\n",
       "    .dataframe tbody tr th:only-of-type {\n",
       "        vertical-align: middle;\n",
       "    }\n",
       "\n",
       "    .dataframe tbody tr th {\n",
       "        vertical-align: top;\n",
       "    }\n",
       "\n",
       "    .dataframe thead th {\n",
       "        text-align: right;\n",
       "    }\n",
       "</style>\n",
       "<table border=\"1\" class=\"dataframe\">\n",
       "  <thead>\n",
       "    <tr style=\"text-align: right;\">\n",
       "      <th></th>\n",
       "      <th>Pregnancies</th>\n",
       "      <th>Glucose</th>\n",
       "      <th>BloodPressure</th>\n",
       "      <th>SkinThickness</th>\n",
       "      <th>Insulin</th>\n",
       "      <th>BMI</th>\n",
       "      <th>DiabetesPedigreeFunction</th>\n",
       "      <th>Age</th>\n",
       "      <th>Outcome</th>\n",
       "    </tr>\n",
       "  </thead>\n",
       "  <tbody>\n",
       "    <tr>\n",
       "      <th>585</th>\n",
       "      <td>1</td>\n",
       "      <td>93</td>\n",
       "      <td>56</td>\n",
       "      <td>11</td>\n",
       "      <td>0</td>\n",
       "      <td>22.5</td>\n",
       "      <td>0.417</td>\n",
       "      <td>22</td>\n",
       "      <td>0</td>\n",
       "    </tr>\n",
       "    <tr>\n",
       "      <th>66</th>\n",
       "      <td>0</td>\n",
       "      <td>109</td>\n",
       "      <td>88</td>\n",
       "      <td>30</td>\n",
       "      <td>0</td>\n",
       "      <td>32.5</td>\n",
       "      <td>0.855</td>\n",
       "      <td>38</td>\n",
       "      <td>1</td>\n",
       "    </tr>\n",
       "    <tr>\n",
       "      <th>493</th>\n",
       "      <td>4</td>\n",
       "      <td>125</td>\n",
       "      <td>70</td>\n",
       "      <td>18</td>\n",
       "      <td>122</td>\n",
       "      <td>28.9</td>\n",
       "      <td>1.144</td>\n",
       "      <td>45</td>\n",
       "      <td>1</td>\n",
       "    </tr>\n",
       "    <tr>\n",
       "      <th>190</th>\n",
       "      <td>3</td>\n",
       "      <td>111</td>\n",
       "      <td>62</td>\n",
       "      <td>0</td>\n",
       "      <td>0</td>\n",
       "      <td>22.6</td>\n",
       "      <td>0.142</td>\n",
       "      <td>21</td>\n",
       "      <td>0</td>\n",
       "    </tr>\n",
       "    <tr>\n",
       "      <th>510</th>\n",
       "      <td>12</td>\n",
       "      <td>84</td>\n",
       "      <td>72</td>\n",
       "      <td>31</td>\n",
       "      <td>0</td>\n",
       "      <td>29.7</td>\n",
       "      <td>0.297</td>\n",
       "      <td>46</td>\n",
       "      <td>1</td>\n",
       "    </tr>\n",
       "  </tbody>\n",
       "</table>\n",
       "</div>"
      ],
      "text/plain": [
       "     Pregnancies  Glucose  BloodPressure  SkinThickness  Insulin   BMI  \\\n",
       "585            1       93             56             11        0  22.5   \n",
       "66             0      109             88             30        0  32.5   \n",
       "493            4      125             70             18      122  28.9   \n",
       "190            3      111             62              0        0  22.6   \n",
       "510           12       84             72             31        0  29.7   \n",
       "\n",
       "     DiabetesPedigreeFunction  Age  Outcome  \n",
       "585                     0.417   22        0  \n",
       "66                      0.855   38        1  \n",
       "493                     1.144   45        1  \n",
       "190                     0.142   21        0  \n",
       "510                     0.297   46        1  "
      ]
     },
     "execution_count": 54,
     "metadata": {},
     "output_type": "execute_result"
    }
   ],
   "source": [
    "df4 = pd.read_csv(r\"C:\\Users\\Xavier\\Downloads\\archive\\health care diabetes.csv\")\n",
    "df4.sample(5)"
   ]
  },
  {
   "cell_type": "code",
   "execution_count": 57,
   "metadata": {},
   "outputs": [
    {
     "data": {
      "text/html": [
       "<div>\n",
       "<style scoped>\n",
       "    .dataframe tbody tr th:only-of-type {\n",
       "        vertical-align: middle;\n",
       "    }\n",
       "\n",
       "    .dataframe tbody tr th {\n",
       "        vertical-align: top;\n",
       "    }\n",
       "\n",
       "    .dataframe thead th {\n",
       "        text-align: right;\n",
       "    }\n",
       "</style>\n",
       "<table border=\"1\" class=\"dataframe\">\n",
       "  <thead>\n",
       "    <tr style=\"text-align: right;\">\n",
       "      <th></th>\n",
       "      <th>Glucose</th>\n",
       "      <th>BMI</th>\n",
       "    </tr>\n",
       "  </thead>\n",
       "  <tbody>\n",
       "    <tr>\n",
       "      <th>0</th>\n",
       "      <td>148</td>\n",
       "      <td>33.6</td>\n",
       "    </tr>\n",
       "    <tr>\n",
       "      <th>1</th>\n",
       "      <td>85</td>\n",
       "      <td>26.6</td>\n",
       "    </tr>\n",
       "    <tr>\n",
       "      <th>2</th>\n",
       "      <td>183</td>\n",
       "      <td>23.3</td>\n",
       "    </tr>\n",
       "    <tr>\n",
       "      <th>3</th>\n",
       "      <td>89</td>\n",
       "      <td>28.1</td>\n",
       "    </tr>\n",
       "    <tr>\n",
       "      <th>4</th>\n",
       "      <td>137</td>\n",
       "      <td>43.1</td>\n",
       "    </tr>\n",
       "    <tr>\n",
       "      <th>...</th>\n",
       "      <td>...</td>\n",
       "      <td>...</td>\n",
       "    </tr>\n",
       "    <tr>\n",
       "      <th>763</th>\n",
       "      <td>101</td>\n",
       "      <td>32.9</td>\n",
       "    </tr>\n",
       "    <tr>\n",
       "      <th>764</th>\n",
       "      <td>122</td>\n",
       "      <td>36.8</td>\n",
       "    </tr>\n",
       "    <tr>\n",
       "      <th>765</th>\n",
       "      <td>121</td>\n",
       "      <td>26.2</td>\n",
       "    </tr>\n",
       "    <tr>\n",
       "      <th>766</th>\n",
       "      <td>126</td>\n",
       "      <td>30.1</td>\n",
       "    </tr>\n",
       "    <tr>\n",
       "      <th>767</th>\n",
       "      <td>93</td>\n",
       "      <td>30.4</td>\n",
       "    </tr>\n",
       "  </tbody>\n",
       "</table>\n",
       "<p>768 rows × 2 columns</p>\n",
       "</div>"
      ],
      "text/plain": [
       "     Glucose   BMI\n",
       "0        148  33.6\n",
       "1         85  26.6\n",
       "2        183  23.3\n",
       "3         89  28.1\n",
       "4        137  43.1\n",
       "..       ...   ...\n",
       "763      101  32.9\n",
       "764      122  36.8\n",
       "765      121  26.2\n",
       "766      126  30.1\n",
       "767       93  30.4\n",
       "\n",
       "[768 rows x 2 columns]"
      ]
     },
     "execution_count": 57,
     "metadata": {},
     "output_type": "execute_result"
    }
   ],
   "source": [
    "df4 = df4[['Glucose', 'BMI']]\n",
    "df4.dropna()"
   ]
  },
  {
   "cell_type": "code",
   "execution_count": 62,
   "metadata": {},
   "outputs": [],
   "source": [
    "x = df4['BMI']\n",
    "y = df4['Glucose']"
   ]
  },
  {
   "cell_type": "code",
   "execution_count": 63,
   "metadata": {},
   "outputs": [],
   "source": [
    "x = sm.add_constant(x)"
   ]
  },
  {
   "cell_type": "code",
   "execution_count": 67,
   "metadata": {},
   "outputs": [
    {
     "name": "stdout",
     "output_type": "stream",
     "text": [
      "                            OLS Regression Results                            \n",
      "==============================================================================\n",
      "Dep. Variable:                Glucose   R-squared:                       0.049\n",
      "Model:                            OLS   Adj. R-squared:                  0.048\n",
      "Method:                 Least Squares   F-statistic:                     39.36\n",
      "Date:                Mon, 16 Oct 2023   Prob (F-statistic):           5.89e-10\n",
      "Time:                        22:28:34   Log-Likelihood:                -3731.0\n",
      "No. Observations:                 768   AIC:                             7466.\n",
      "Df Residuals:                     766   BIC:                             7475.\n",
      "Df Model:                           1                                         \n",
      "Covariance Type:            nonrobust                                         \n",
      "==============================================================================\n",
      "                 coef    std err          t      P>|t|      [0.025      0.975]\n",
      "------------------------------------------------------------------------------\n",
      "const         92.2129      4.708     19.585      0.000      82.970     101.456\n",
      "BMI            0.8965      0.143      6.274      0.000       0.616       1.177\n",
      "==============================================================================\n",
      "Omnibus:                       14.586   Durbin-Watson:                   1.834\n",
      "Prob(Omnibus):                  0.001   Jarque-Bera (JB):               24.669\n",
      "Skew:                           0.098   Prob(JB):                     4.40e-06\n",
      "Kurtosis:                       3.856   Cond. No.                         138.\n",
      "==============================================================================\n",
      "\n",
      "Notes:\n",
      "[1] Standard Errors assume that the covariance matrix of the errors is correctly specified.\n"
     ]
    }
   ],
   "source": [
    "model = sm.OLS(y,x).fit()\n",
    "print(model.summary())"
   ]
  },
  {
   "cell_type": "code",
   "execution_count": 66,
   "metadata": {},
   "outputs": [],
   "source": [
    "import matplotlib.pyplot as plt"
   ]
  },
  {
   "cell_type": "code",
   "execution_count": 68,
   "metadata": {},
   "outputs": [
    {
     "data": {
      "image/png": "[encoded data removed]",
      "text/plain": [
       "<Figure size 640x480 with 1 Axes>"
      ]
     },
     "metadata": {},
     "output_type": "display_data"
    }
   ],
   "source": [
    "plt.scatter(df4['BMI'], df4['Glucose'], label='Data Points')\n",
    "plt.plot(df4['BMI'], model.predict(x), color='blue', label='Regression Line')\n",
    "plt.xlabel('BMI')\n",
    "plt.ylabel('Glucose')\n",
    "plt.title('Relationship between Quality of Sleep and Sleep Duration')\n",
    "plt.legend()\n",
    "plt.show()"
   ]
  },
  {
   "cell_type": "markdown",
   "metadata": {},
   "source": [
    "The R squared value of 0.049 indicates that 49% of the variance in the Glucose Levels can be attributed to BMI, although the majority of variance, 51%, is still unexplained."
   ]
  }
 ],
 "metadata": {
  "kernelspec": {
   "display_name": "Python 3",
   "language": "python",
   "name": "python3"
  },
  "language_info": {
   "codemirror_mode": {
    "name": "ipython",
    "version": 3
   },
   "file_extension": ".py",
   "mimetype": "text/x-python",
   "name": "python",
   "nbconvert_exporter": "python",
   "pygments_lexer": "ipython3",
   "version": "3.10.5"
  },
  "orig_nbformat": 4
 },
 "nbformat": 4,
 "nbformat_minor": 2
}
